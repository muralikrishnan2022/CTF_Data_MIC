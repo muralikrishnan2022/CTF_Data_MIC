{
  "nbformat": 4,
  "nbformat_minor": 0,
  "metadata": {
    "colab": {
      "provenance": [],
      "authorship_tag": "ABX9TyO5yWtVXKVnxerub9wN1U21",
      "include_colab_link": true
    },
    "kernelspec": {
      "name": "python3",
      "display_name": "Python 3"
    },
    "language_info": {
      "name": "python"
    },
    "accelerator": "TPU"
  },
  "cells": [
    {
      "cell_type": "markdown",
      "metadata": {
        "id": "view-in-github",
        "colab_type": "text"
      },
      "source": [
        "<a href=\"https://colab.research.google.com/github/muralikrishnan2022/CTF_Data_MIC/blob/main/MIC_CTF.ipynb\" target=\"_parent\"><img src=\"https://colab.research.google.com/assets/colab-badge.svg\" alt=\"Open In Colab\"/></a>"
      ]
    },
    {
      "cell_type": "code",
      "source": [
        "import pandas as pd\n",
        "\n",
        "# Assuming you have a DataFrame named 'df'\n",
        "df= pd.read_csv('/content/UFO.csv')\n",
        "\n",
        "# Example using a DataFrame\n",
        "num_rows, num_columns = df.shape\n",
        "\n",
        "print(f\"Number of Rows: {num_rows}\")\n",
        "print(f\"Number of Columns: {num_columns}\")\n"
      ],
      "metadata": {
        "colab": {
          "base_uri": "https://localhost:8080/"
        },
        "id": "TeD1OQ2CFXML",
        "outputId": "36949047-57ff-4cb7-8edb-a03d3cafae13"
      },
      "execution_count": null,
      "outputs": [
        {
          "output_type": "stream",
          "name": "stdout",
          "text": [
            "Number of Rows: 80332\n",
            "Number of Columns: 9\n"
          ]
        }
      ]
    },
    {
      "cell_type": "code",
      "source": [
        "df.isnull().sum()"
      ],
      "metadata": {
        "colab": {
          "base_uri": "https://localhost:8080/"
        },
        "id": "8D4UZg9aHbSD",
        "outputId": "8825f1ab-e5ad-4d67-fa9c-73197d03dd2c"
      },
      "execution_count": null,
      "outputs": [
        {
          "output_type": "execute_result",
          "data": {
            "text/plain": [
              "datetime               694\n",
              "city                     0\n",
              "state                 5797\n",
              "country               9670\n",
              "shape                 1932\n",
              "duration (seconds)       3\n",
              "comments                15\n",
              "latitude                 1\n",
              "longitude                0\n",
              "dtype: int64"
            ]
          },
          "metadata": {},
          "execution_count": 3
        }
      ]
    },
    {
      "cell_type": "code",
      "source": [
        "numerical_columns = df.select_dtypes(include=['number']).columns\n",
        "categorical_columns = df.select_dtypes(include=['object']).columns\n",
        "\n",
        "num_numerical_columns = len(numerical_columns)\n",
        "num_categorical_columns = len(categorical_columns)\n",
        "\n",
        "print(f\"Number of Numerical Columns: {num_numerical_columns}\")\n",
        "print(f\"Number of Categorical Columns: {num_categorical_columns}\")\n"
      ],
      "metadata": {
        "colab": {
          "base_uri": "https://localhost:8080/"
        },
        "id": "LZ2PD47tH5Fu",
        "outputId": "34c5653f-1ce1-4910-95d9-753381e499e7"
      },
      "execution_count": null,
      "outputs": [
        {
          "output_type": "stream",
          "name": "stdout",
          "text": [
            "Number of Numerical Columns: 3\n",
            "Number of Categorical Columns: 6\n"
          ]
        }
      ]
    },
    {
      "cell_type": "code",
      "source": [
        "df"
      ],
      "metadata": {
        "colab": {
          "base_uri": "https://localhost:8080/",
          "height": 1295
        },
        "id": "HVLaUcEPIGAu",
        "outputId": "cd833167-f898-4317-d456-58f4e747f7b6"
      },
      "execution_count": null,
      "outputs": [
        {
          "output_type": "execute_result",
          "data": {
            "text/plain": [
              "                  datetime                  city state country     shape  \\\n",
              "0      1949-10-10 20:30:00            san marcos    tx      us  cylinder   \n",
              "1      1949-10-10 21:00:00          lackland afb    tx     NaN     light   \n",
              "2      1955-10-10 17:00:00  chester (uk/england)   NaN      gb    circle   \n",
              "3      1956-10-10 21:00:00                  edna    tx      us    circle   \n",
              "4      1960-10-10 20:00:00               kaneohe    hi      us     light   \n",
              "...                    ...                   ...   ...     ...       ...   \n",
              "80327  2013-09-09 21:15:00             nashville    tn      us     light   \n",
              "80328  2013-09-09 22:00:00                 boise    id      us    circle   \n",
              "80329  2013-09-09 22:00:00                  napa    ca      us     other   \n",
              "80330  2013-09-09 22:20:00                vienna    va      us    circle   \n",
              "80331  2013-09-09 23:00:00                edmond    ok      us     cigar   \n",
              "\n",
              "       duration (seconds)                                           comments  \\\n",
              "0                  2700.0  This event took place in early fall around 194...   \n",
              "1                  7200.0  1949 Lackland AFB&#44 TX.  Lights racing acros...   \n",
              "2                    20.0  Green/Orange circular disc over Chester&#44 En...   \n",
              "3                    20.0  My older brother and twin sister were leaving ...   \n",
              "4                   900.0  AS a Marine 1st Lt. flying an FJ4B fighter/att...   \n",
              "...                   ...                                                ...   \n",
              "80327               600.0  Round from the distance/slowly changing colors...   \n",
              "80328              1200.0  Boise&#44 ID&#44 spherical&#44 20 min&#44 10 r...   \n",
              "80329              1200.0                                       Napa UFO&#44   \n",
              "80330                 5.0  Saw a five gold lit cicular craft moving fastl...   \n",
              "80331              1020.0  2 witnesses 2  miles apart&#44 Red &amp; White...   \n",
              "\n",
              "        latitude   longitude  \n",
              "0      29.883056  -97.941111  \n",
              "1      29.384210  -98.581082  \n",
              "2      53.200000   -2.916667  \n",
              "3      28.978333  -96.645833  \n",
              "4      21.418056 -157.803611  \n",
              "...          ...         ...  \n",
              "80327  36.165833  -86.784444  \n",
              "80328  43.613611 -116.202500  \n",
              "80329  38.297222 -122.284444  \n",
              "80330  38.901111  -77.265556  \n",
              "80331  35.652778  -97.477778  \n",
              "\n",
              "[80332 rows x 9 columns]"
            ],
            "text/html": [
              "\n",
              "  <div id=\"df-282c1b37-2c4a-4f4e-8d9f-ed0912a26eaf\" class=\"colab-df-container\">\n",
              "    <div>\n",
              "<style scoped>\n",
              "    .dataframe tbody tr th:only-of-type {\n",
              "        vertical-align: middle;\n",
              "    }\n",
              "\n",
              "    .dataframe tbody tr th {\n",
              "        vertical-align: top;\n",
              "    }\n",
              "\n",
              "    .dataframe thead th {\n",
              "        text-align: right;\n",
              "    }\n",
              "</style>\n",
              "<table border=\"1\" class=\"dataframe\">\n",
              "  <thead>\n",
              "    <tr style=\"text-align: right;\">\n",
              "      <th></th>\n",
              "      <th>datetime</th>\n",
              "      <th>city</th>\n",
              "      <th>state</th>\n",
              "      <th>country</th>\n",
              "      <th>shape</th>\n",
              "      <th>duration (seconds)</th>\n",
              "      <th>comments</th>\n",
              "      <th>latitude</th>\n",
              "      <th>longitude</th>\n",
              "    </tr>\n",
              "  </thead>\n",
              "  <tbody>\n",
              "    <tr>\n",
              "      <th>0</th>\n",
              "      <td>1949-10-10 20:30:00</td>\n",
              "      <td>san marcos</td>\n",
              "      <td>tx</td>\n",
              "      <td>us</td>\n",
              "      <td>cylinder</td>\n",
              "      <td>2700.0</td>\n",
              "      <td>This event took place in early fall around 194...</td>\n",
              "      <td>29.883056</td>\n",
              "      <td>-97.941111</td>\n",
              "    </tr>\n",
              "    <tr>\n",
              "      <th>1</th>\n",
              "      <td>1949-10-10 21:00:00</td>\n",
              "      <td>lackland afb</td>\n",
              "      <td>tx</td>\n",
              "      <td>NaN</td>\n",
              "      <td>light</td>\n",
              "      <td>7200.0</td>\n",
              "      <td>1949 Lackland AFB&amp;#44 TX.  Lights racing acros...</td>\n",
              "      <td>29.384210</td>\n",
              "      <td>-98.581082</td>\n",
              "    </tr>\n",
              "    <tr>\n",
              "      <th>2</th>\n",
              "      <td>1955-10-10 17:00:00</td>\n",
              "      <td>chester (uk/england)</td>\n",
              "      <td>NaN</td>\n",
              "      <td>gb</td>\n",
              "      <td>circle</td>\n",
              "      <td>20.0</td>\n",
              "      <td>Green/Orange circular disc over Chester&amp;#44 En...</td>\n",
              "      <td>53.200000</td>\n",
              "      <td>-2.916667</td>\n",
              "    </tr>\n",
              "    <tr>\n",
              "      <th>3</th>\n",
              "      <td>1956-10-10 21:00:00</td>\n",
              "      <td>edna</td>\n",
              "      <td>tx</td>\n",
              "      <td>us</td>\n",
              "      <td>circle</td>\n",
              "      <td>20.0</td>\n",
              "      <td>My older brother and twin sister were leaving ...</td>\n",
              "      <td>28.978333</td>\n",
              "      <td>-96.645833</td>\n",
              "    </tr>\n",
              "    <tr>\n",
              "      <th>4</th>\n",
              "      <td>1960-10-10 20:00:00</td>\n",
              "      <td>kaneohe</td>\n",
              "      <td>hi</td>\n",
              "      <td>us</td>\n",
              "      <td>light</td>\n",
              "      <td>900.0</td>\n",
              "      <td>AS a Marine 1st Lt. flying an FJ4B fighter/att...</td>\n",
              "      <td>21.418056</td>\n",
              "      <td>-157.803611</td>\n",
              "    </tr>\n",
              "    <tr>\n",
              "      <th>...</th>\n",
              "      <td>...</td>\n",
              "      <td>...</td>\n",
              "      <td>...</td>\n",
              "      <td>...</td>\n",
              "      <td>...</td>\n",
              "      <td>...</td>\n",
              "      <td>...</td>\n",
              "      <td>...</td>\n",
              "      <td>...</td>\n",
              "    </tr>\n",
              "    <tr>\n",
              "      <th>80327</th>\n",
              "      <td>2013-09-09 21:15:00</td>\n",
              "      <td>nashville</td>\n",
              "      <td>tn</td>\n",
              "      <td>us</td>\n",
              "      <td>light</td>\n",
              "      <td>600.0</td>\n",
              "      <td>Round from the distance/slowly changing colors...</td>\n",
              "      <td>36.165833</td>\n",
              "      <td>-86.784444</td>\n",
              "    </tr>\n",
              "    <tr>\n",
              "      <th>80328</th>\n",
              "      <td>2013-09-09 22:00:00</td>\n",
              "      <td>boise</td>\n",
              "      <td>id</td>\n",
              "      <td>us</td>\n",
              "      <td>circle</td>\n",
              "      <td>1200.0</td>\n",
              "      <td>Boise&amp;#44 ID&amp;#44 spherical&amp;#44 20 min&amp;#44 10 r...</td>\n",
              "      <td>43.613611</td>\n",
              "      <td>-116.202500</td>\n",
              "    </tr>\n",
              "    <tr>\n",
              "      <th>80329</th>\n",
              "      <td>2013-09-09 22:00:00</td>\n",
              "      <td>napa</td>\n",
              "      <td>ca</td>\n",
              "      <td>us</td>\n",
              "      <td>other</td>\n",
              "      <td>1200.0</td>\n",
              "      <td>Napa UFO&amp;#44</td>\n",
              "      <td>38.297222</td>\n",
              "      <td>-122.284444</td>\n",
              "    </tr>\n",
              "    <tr>\n",
              "      <th>80330</th>\n",
              "      <td>2013-09-09 22:20:00</td>\n",
              "      <td>vienna</td>\n",
              "      <td>va</td>\n",
              "      <td>us</td>\n",
              "      <td>circle</td>\n",
              "      <td>5.0</td>\n",
              "      <td>Saw a five gold lit cicular craft moving fastl...</td>\n",
              "      <td>38.901111</td>\n",
              "      <td>-77.265556</td>\n",
              "    </tr>\n",
              "    <tr>\n",
              "      <th>80331</th>\n",
              "      <td>2013-09-09 23:00:00</td>\n",
              "      <td>edmond</td>\n",
              "      <td>ok</td>\n",
              "      <td>us</td>\n",
              "      <td>cigar</td>\n",
              "      <td>1020.0</td>\n",
              "      <td>2 witnesses 2  miles apart&amp;#44 Red &amp;amp; White...</td>\n",
              "      <td>35.652778</td>\n",
              "      <td>-97.477778</td>\n",
              "    </tr>\n",
              "  </tbody>\n",
              "</table>\n",
              "<p>80332 rows × 9 columns</p>\n",
              "</div>\n",
              "    <div class=\"colab-df-buttons\">\n",
              "\n",
              "  <div class=\"colab-df-container\">\n",
              "    <button class=\"colab-df-convert\" onclick=\"convertToInteractive('df-282c1b37-2c4a-4f4e-8d9f-ed0912a26eaf')\"\n",
              "            title=\"Convert this dataframe to an interactive table.\"\n",
              "            style=\"display:none;\">\n",
              "\n",
              "  <svg xmlns=\"http://www.w3.org/2000/svg\" height=\"24px\" viewBox=\"0 -960 960 960\">\n",
              "    <path d=\"M120-120v-720h720v720H120Zm60-500h600v-160H180v160Zm220 220h160v-160H400v160Zm0 220h160v-160H400v160ZM180-400h160v-160H180v160Zm440 0h160v-160H620v160ZM180-180h160v-160H180v160Zm440 0h160v-160H620v160Z\"/>\n",
              "  </svg>\n",
              "    </button>\n",
              "\n",
              "  <style>\n",
              "    .colab-df-container {\n",
              "      display:flex;\n",
              "      gap: 12px;\n",
              "    }\n",
              "\n",
              "    .colab-df-convert {\n",
              "      background-color: #E8F0FE;\n",
              "      border: none;\n",
              "      border-radius: 50%;\n",
              "      cursor: pointer;\n",
              "      display: none;\n",
              "      fill: #1967D2;\n",
              "      height: 32px;\n",
              "      padding: 0 0 0 0;\n",
              "      width: 32px;\n",
              "    }\n",
              "\n",
              "    .colab-df-convert:hover {\n",
              "      background-color: #E2EBFA;\n",
              "      box-shadow: 0px 1px 2px rgba(60, 64, 67, 0.3), 0px 1px 3px 1px rgba(60, 64, 67, 0.15);\n",
              "      fill: #174EA6;\n",
              "    }\n",
              "\n",
              "    .colab-df-buttons div {\n",
              "      margin-bottom: 4px;\n",
              "    }\n",
              "\n",
              "    [theme=dark] .colab-df-convert {\n",
              "      background-color: #3B4455;\n",
              "      fill: #D2E3FC;\n",
              "    }\n",
              "\n",
              "    [theme=dark] .colab-df-convert:hover {\n",
              "      background-color: #434B5C;\n",
              "      box-shadow: 0px 1px 3px 1px rgba(0, 0, 0, 0.15);\n",
              "      filter: drop-shadow(0px 1px 2px rgba(0, 0, 0, 0.3));\n",
              "      fill: #FFFFFF;\n",
              "    }\n",
              "  </style>\n",
              "\n",
              "    <script>\n",
              "      const buttonEl =\n",
              "        document.querySelector('#df-282c1b37-2c4a-4f4e-8d9f-ed0912a26eaf button.colab-df-convert');\n",
              "      buttonEl.style.display =\n",
              "        google.colab.kernel.accessAllowed ? 'block' : 'none';\n",
              "\n",
              "      async function convertToInteractive(key) {\n",
              "        const element = document.querySelector('#df-282c1b37-2c4a-4f4e-8d9f-ed0912a26eaf');\n",
              "        const dataTable =\n",
              "          await google.colab.kernel.invokeFunction('convertToInteractive',\n",
              "                                                    [key], {});\n",
              "        if (!dataTable) return;\n",
              "\n",
              "        const docLinkHtml = 'Like what you see? Visit the ' +\n",
              "          '<a target=\"_blank\" href=https://colab.research.google.com/notebooks/data_table.ipynb>data table notebook</a>'\n",
              "          + ' to learn more about interactive tables.';\n",
              "        element.innerHTML = '';\n",
              "        dataTable['output_type'] = 'display_data';\n",
              "        await google.colab.output.renderOutput(dataTable, element);\n",
              "        const docLink = document.createElement('div');\n",
              "        docLink.innerHTML = docLinkHtml;\n",
              "        element.appendChild(docLink);\n",
              "      }\n",
              "    </script>\n",
              "  </div>\n",
              "\n",
              "\n",
              "<div id=\"df-697b7fe6-23c0-4dbd-a850-59598390ee7a\">\n",
              "  <button class=\"colab-df-quickchart\" onclick=\"quickchart('df-697b7fe6-23c0-4dbd-a850-59598390ee7a')\"\n",
              "            title=\"Suggest charts\"\n",
              "            style=\"display:none;\">\n",
              "\n",
              "<svg xmlns=\"http://www.w3.org/2000/svg\" height=\"24px\"viewBox=\"0 0 24 24\"\n",
              "     width=\"24px\">\n",
              "    <g>\n",
              "        <path d=\"M19 3H5c-1.1 0-2 .9-2 2v14c0 1.1.9 2 2 2h14c1.1 0 2-.9 2-2V5c0-1.1-.9-2-2-2zM9 17H7v-7h2v7zm4 0h-2V7h2v10zm4 0h-2v-4h2v4z\"/>\n",
              "    </g>\n",
              "</svg>\n",
              "  </button>\n",
              "\n",
              "<style>\n",
              "  .colab-df-quickchart {\n",
              "      --bg-color: #E8F0FE;\n",
              "      --fill-color: #1967D2;\n",
              "      --hover-bg-color: #E2EBFA;\n",
              "      --hover-fill-color: #174EA6;\n",
              "      --disabled-fill-color: #AAA;\n",
              "      --disabled-bg-color: #DDD;\n",
              "  }\n",
              "\n",
              "  [theme=dark] .colab-df-quickchart {\n",
              "      --bg-color: #3B4455;\n",
              "      --fill-color: #D2E3FC;\n",
              "      --hover-bg-color: #434B5C;\n",
              "      --hover-fill-color: #FFFFFF;\n",
              "      --disabled-bg-color: #3B4455;\n",
              "      --disabled-fill-color: #666;\n",
              "  }\n",
              "\n",
              "  .colab-df-quickchart {\n",
              "    background-color: var(--bg-color);\n",
              "    border: none;\n",
              "    border-radius: 50%;\n",
              "    cursor: pointer;\n",
              "    display: none;\n",
              "    fill: var(--fill-color);\n",
              "    height: 32px;\n",
              "    padding: 0;\n",
              "    width: 32px;\n",
              "  }\n",
              "\n",
              "  .colab-df-quickchart:hover {\n",
              "    background-color: var(--hover-bg-color);\n",
              "    box-shadow: 0 1px 2px rgba(60, 64, 67, 0.3), 0 1px 3px 1px rgba(60, 64, 67, 0.15);\n",
              "    fill: var(--button-hover-fill-color);\n",
              "  }\n",
              "\n",
              "  .colab-df-quickchart-complete:disabled,\n",
              "  .colab-df-quickchart-complete:disabled:hover {\n",
              "    background-color: var(--disabled-bg-color);\n",
              "    fill: var(--disabled-fill-color);\n",
              "    box-shadow: none;\n",
              "  }\n",
              "\n",
              "  .colab-df-spinner {\n",
              "    border: 2px solid var(--fill-color);\n",
              "    border-color: transparent;\n",
              "    border-bottom-color: var(--fill-color);\n",
              "    animation:\n",
              "      spin 1s steps(1) infinite;\n",
              "  }\n",
              "\n",
              "  @keyframes spin {\n",
              "    0% {\n",
              "      border-color: transparent;\n",
              "      border-bottom-color: var(--fill-color);\n",
              "      border-left-color: var(--fill-color);\n",
              "    }\n",
              "    20% {\n",
              "      border-color: transparent;\n",
              "      border-left-color: var(--fill-color);\n",
              "      border-top-color: var(--fill-color);\n",
              "    }\n",
              "    30% {\n",
              "      border-color: transparent;\n",
              "      border-left-color: var(--fill-color);\n",
              "      border-top-color: var(--fill-color);\n",
              "      border-right-color: var(--fill-color);\n",
              "    }\n",
              "    40% {\n",
              "      border-color: transparent;\n",
              "      border-right-color: var(--fill-color);\n",
              "      border-top-color: var(--fill-color);\n",
              "    }\n",
              "    60% {\n",
              "      border-color: transparent;\n",
              "      border-right-color: var(--fill-color);\n",
              "    }\n",
              "    80% {\n",
              "      border-color: transparent;\n",
              "      border-right-color: var(--fill-color);\n",
              "      border-bottom-color: var(--fill-color);\n",
              "    }\n",
              "    90% {\n",
              "      border-color: transparent;\n",
              "      border-bottom-color: var(--fill-color);\n",
              "    }\n",
              "  }\n",
              "</style>\n",
              "\n",
              "  <script>\n",
              "    async function quickchart(key) {\n",
              "      const quickchartButtonEl =\n",
              "        document.querySelector('#' + key + ' button');\n",
              "      quickchartButtonEl.disabled = true;  // To prevent multiple clicks.\n",
              "      quickchartButtonEl.classList.add('colab-df-spinner');\n",
              "      try {\n",
              "        const charts = await google.colab.kernel.invokeFunction(\n",
              "            'suggestCharts', [key], {});\n",
              "      } catch (error) {\n",
              "        console.error('Error during call to suggestCharts:', error);\n",
              "      }\n",
              "      quickchartButtonEl.classList.remove('colab-df-spinner');\n",
              "      quickchartButtonEl.classList.add('colab-df-quickchart-complete');\n",
              "    }\n",
              "    (() => {\n",
              "      let quickchartButtonEl =\n",
              "        document.querySelector('#df-697b7fe6-23c0-4dbd-a850-59598390ee7a button');\n",
              "      quickchartButtonEl.style.display =\n",
              "        google.colab.kernel.accessAllowed ? 'block' : 'none';\n",
              "    })();\n",
              "  </script>\n",
              "</div>\n",
              "\n",
              "  <div id=\"id_ff08e85a-52b5-4abd-a7e3-48afd8d4bbe2\">\n",
              "    <style>\n",
              "      .colab-df-generate {\n",
              "        background-color: #E8F0FE;\n",
              "        border: none;\n",
              "        border-radius: 50%;\n",
              "        cursor: pointer;\n",
              "        display: none;\n",
              "        fill: #1967D2;\n",
              "        height: 32px;\n",
              "        padding: 0 0 0 0;\n",
              "        width: 32px;\n",
              "      }\n",
              "\n",
              "      .colab-df-generate:hover {\n",
              "        background-color: #E2EBFA;\n",
              "        box-shadow: 0px 1px 2px rgba(60, 64, 67, 0.3), 0px 1px 3px 1px rgba(60, 64, 67, 0.15);\n",
              "        fill: #174EA6;\n",
              "      }\n",
              "\n",
              "      [theme=dark] .colab-df-generate {\n",
              "        background-color: #3B4455;\n",
              "        fill: #D2E3FC;\n",
              "      }\n",
              "\n",
              "      [theme=dark] .colab-df-generate:hover {\n",
              "        background-color: #434B5C;\n",
              "        box-shadow: 0px 1px 3px 1px rgba(0, 0, 0, 0.15);\n",
              "        filter: drop-shadow(0px 1px 2px rgba(0, 0, 0, 0.3));\n",
              "        fill: #FFFFFF;\n",
              "      }\n",
              "    </style>\n",
              "    <button class=\"colab-df-generate\" onclick=\"generateWithVariable('df')\"\n",
              "            title=\"Generate code using this dataframe.\"\n",
              "            style=\"display:none;\">\n",
              "\n",
              "  <svg xmlns=\"http://www.w3.org/2000/svg\" height=\"24px\"viewBox=\"0 0 24 24\"\n",
              "       width=\"24px\">\n",
              "    <path d=\"M7,19H8.4L18.45,9,17,7.55,7,17.6ZM5,21V16.75L18.45,3.32a2,2,0,0,1,2.83,0l1.4,1.43a1.91,1.91,0,0,1,.58,1.4,1.91,1.91,0,0,1-.58,1.4L9.25,21ZM18.45,9,17,7.55Zm-12,3A5.31,5.31,0,0,0,4.9,8.1,5.31,5.31,0,0,0,1,6.5,5.31,5.31,0,0,0,4.9,4.9,5.31,5.31,0,0,0,6.5,1,5.31,5.31,0,0,0,8.1,4.9,5.31,5.31,0,0,0,12,6.5,5.46,5.46,0,0,0,6.5,12Z\"/>\n",
              "  </svg>\n",
              "    </button>\n",
              "    <script>\n",
              "      (() => {\n",
              "      const buttonEl =\n",
              "        document.querySelector('#id_ff08e85a-52b5-4abd-a7e3-48afd8d4bbe2 button.colab-df-generate');\n",
              "      buttonEl.style.display =\n",
              "        google.colab.kernel.accessAllowed ? 'block' : 'none';\n",
              "\n",
              "      buttonEl.onclick = () => {\n",
              "        google.colab.notebook.generateWithVariable('df');\n",
              "      }\n",
              "      })();\n",
              "    </script>\n",
              "  </div>\n",
              "\n",
              "    </div>\n",
              "  </div>\n"
            ]
          },
          "metadata": {},
          "execution_count": 5
        },
        {
          "output_type": "stream",
          "name": "stdout",
          "text": [
            "Warning: total number of rows (80332) exceeds max_rows (20000). Limiting to first (20000) rows.\n",
            "Warning: total number of rows (80332) exceeds max_rows (20000). Limiting to first (20000) rows.\n"
          ]
        }
      ]
    },
    {
      "cell_type": "code",
      "source": [
        "import pandas as pd\n",
        "\n",
        "# Assuming you have a DataFrame named 'df' with a 'Country' column\n",
        "# You can read a dataset using pd.read_csv or other functions\n",
        "\n",
        "# Count the occurrences of 'gb' in the 'Country' column\n",
        "num_gb_sightings = df['country'].str.lower().eq('gb').sum()\n",
        "\n",
        "print(f\"Number of Sightings in Great Britain (gb): {num_gb_sightings}\")\n",
        "\n"
      ],
      "metadata": {
        "colab": {
          "base_uri": "https://localhost:8080/"
        },
        "id": "XsDmD7TBIN7K",
        "outputId": "5ddb337e-4cc2-4f89-932d-f9576687d18f"
      },
      "execution_count": null,
      "outputs": [
        {
          "output_type": "stream",
          "name": "stdout",
          "text": [
            "Number of Sightings in Great Britain (gb): 1905\n"
          ]
        }
      ]
    },
    {
      "cell_type": "code",
      "source": [
        "import pandas as pd\n",
        "\n",
        "# Assuming you have a DataFrame named 'df' with a 'City' column\n",
        "# You can read a dataset using pd.read_csv or other functions\n",
        "\n",
        "# Rank the cities based on occurrences\n",
        "city_occurrences = df['city'].value_counts()\n",
        "\n",
        "city_occurrences = city_occurrences.sort_values(ascending=False)\n",
        "\n",
        "# Display the ranked cities\n",
        "print(city_occurrences)\n"
      ],
      "metadata": {
        "colab": {
          "base_uri": "https://localhost:8080/"
        },
        "id": "gMpMlFzzKF8d",
        "outputId": "2eb5af56-5a24-4c78-8217-a9d7001fdcbf"
      },
      "execution_count": null,
      "outputs": [
        {
          "output_type": "stream",
          "name": "stdout",
          "text": [
            "seattle                                    525\n",
            "phoenix                                    454\n",
            "portland                                   374\n",
            "las vegas                                  368\n",
            "los angeles                                353\n",
            "                                          ... \n",
            "east london (canada)                         1\n",
            "fort yates                                   1\n",
            "barnegat light                               1\n",
            "south normanton&#44 derbys (uk/england)      1\n",
            "hamstead (hollyridge)                        1\n",
            "Name: city, Length: 19900, dtype: int64\n"
          ]
        }
      ]
    },
    {
      "cell_type": "code",
      "source": [
        " #Convert the 'Datetime' column to datetime format\n",
        "df['datetime'] = pd.to_datetime(df['datetime'], errors='coerce')\n",
        "\n",
        "# Filter data for the time range 1960 to 1983\n",
        "filtered_data = df[(df['datetime'].dt.year >= 1960) & (df['datetime'].dt.year <= 1983)]\n",
        "\n",
        "# Rank the cities based on occurrences within the specified time range\n",
        "city_occurrences = filtered_data['city'].value_counts()\n",
        "\n",
        "# Display the ranked cities\n",
        "print(city_occurrences)"
      ],
      "metadata": {
        "colab": {
          "base_uri": "https://localhost:8080/"
        },
        "id": "e4eTZIPnNE0t",
        "outputId": "52fde9cd-bd6b-4ea6-e63f-fd3c9b99a197"
      },
      "execution_count": null,
      "outputs": [
        {
          "output_type": "stream",
          "name": "stdout",
          "text": [
            "chicago        21\n",
            "houston        21\n",
            "los angeles    18\n",
            "miami          18\n",
            "seattle        14\n",
            "               ..\n",
            "goodman         1\n",
            "portage         1\n",
            "millerton       1\n",
            "merkel          1\n",
            "mount kisco     1\n",
            "Name: city, Length: 2877, dtype: int64\n"
          ]
        }
      ]
    },
    {
      "cell_type": "code",
      "source": [
        "import pandas as pd\n",
        "\n",
        "# Assuming you have a DataFrame named 'df' with a 'City' column\n",
        "# You can read a dataset using pd.read_csv or other functions\n",
        "\n",
        "# Count occurrences of 'Los Angeles' in the 'City' column\n",
        "los_angeles_count = df['city'].value_counts().get('los angeles', 0)\n",
        "\n",
        "print(f\"Count of Occurrences of 'Los Angeles' in City: {los_angeles_count}\")\n"
      ],
      "metadata": {
        "colab": {
          "base_uri": "https://localhost:8080/"
        },
        "id": "mYi_gXK2OfNx",
        "outputId": "9370ed26-9ba8-48bc-c0f7-dcb5500a7164"
      },
      "execution_count": null,
      "outputs": [
        {
          "output_type": "stream",
          "name": "stdout",
          "text": [
            "Count of Occurrences of 'Los Angeles' in City: 353\n"
          ]
        }
      ]
    },
    {
      "cell_type": "code",
      "source": [
        "print(df.columns)\n"
      ],
      "metadata": {
        "colab": {
          "base_uri": "https://localhost:8080/"
        },
        "id": "SnwcpooDTqjk",
        "outputId": "c5402df2-a830-4850-cd95-62def74201d7"
      },
      "execution_count": null,
      "outputs": [
        {
          "output_type": "stream",
          "name": "stdout",
          "text": [
            "Index(['datetime', 'city', 'state', 'country', 'shape', 'duration (seconds)',\n",
            "       'comments', 'latitude', 'longitude'],\n",
            "      dtype='object')\n"
          ]
        }
      ]
    },
    {
      "cell_type": "code",
      "source": [
        "df.info()"
      ],
      "metadata": {
        "colab": {
          "base_uri": "https://localhost:8080/"
        },
        "id": "zNGe7dA7PN0W",
        "outputId": "5be43693-2053-441f-88f4-d1917b520cdd"
      },
      "execution_count": null,
      "outputs": [
        {
          "output_type": "stream",
          "name": "stdout",
          "text": [
            "<class 'pandas.core.frame.DataFrame'>\n",
            "RangeIndex: 80332 entries, 0 to 80331\n",
            "Data columns (total 9 columns):\n",
            " #   Column              Non-Null Count  Dtype         \n",
            "---  ------              --------------  -----         \n",
            " 0   datetime            79638 non-null  datetime64[ns]\n",
            " 1   city                80332 non-null  object        \n",
            " 2   state               74535 non-null  object        \n",
            " 3   country             70662 non-null  object        \n",
            " 4   shape               78400 non-null  object        \n",
            " 5   duration (seconds)  80329 non-null  float64       \n",
            " 6   comments            80317 non-null  object        \n",
            " 7   latitude            80331 non-null  float64       \n",
            " 8   longitude           80332 non-null  float64       \n",
            "dtypes: datetime64[ns](1), float64(3), object(5)\n",
            "memory usage: 5.5+ MB\n"
          ]
        }
      ]
    },
    {
      "cell_type": "code",
      "source": [
        "# Convert the 'duration' column to numeric if it's not already in numeric format\n",
        "df['duration (seconds)'] = pd.to_numeric(df['duration (seconds)'], errors='coerce')\n",
        "\n",
        "# Filter data for the city 'Los Angeles'\n",
        "los_angeles_data = df[df['city'] == 'los angeles']\n",
        "\n",
        "# Calculate the average duration for Los Angeles\n",
        "average_duration_los_angeles = los_angeles_data['duration (seconds)'].mean()\n",
        "\n",
        "print(f\"Average Duration for Los Angeles: {average_duration_los_angeles} seconds\")\n"
      ],
      "metadata": {
        "colab": {
          "base_uri": "https://localhost:8080/"
        },
        "id": "bp3o472TmbFE",
        "outputId": "519c4d17-684e-4800-92cd-713f7b916c59"
      },
      "execution_count": null,
      "outputs": [
        {
          "output_type": "stream",
          "name": "stdout",
          "text": [
            "Average Duration for Los Angeles: 763.1359773371105 seconds\n"
          ]
        }
      ]
    },
    {
      "cell_type": "code",
      "source": [
        "import pandas as pd\n",
        "\n",
        "# Assuming you have a DataFrame named 'df' with 'City', 'Duration', and 'Datetime' columns\n",
        "# You can read a dataset using pd.read_csv or other functions\n",
        "\n",
        "# Convert the 'Datetime' column to datetime format\n",
        "df['datetime'] = pd.to_datetime(df['datetime'], errors='coerce')\n",
        "\n",
        "# Filter data for the time range 1960 to 1983\n",
        "filtered_data = df[(df['datetime'].dt.year >= 1960) & (df['datetime'].dt.year <= 1983)]\n",
        "\n",
        "# Find the city that ranked third for UFO sightings\n",
        "city_ranked_third = filtered_data['city'].value_counts().index[2]\n",
        "\n",
        "# Filter data for the city that ranked third\n",
        "third_ranked_city_data = filtered_data[filtered_data['city'] == city_ranked_third]\n",
        "\n",
        "# Calculate the average duration\n",
        "average_duration_third_ranked_city = round(third_ranked_city_data['duration (seconds)'].mean())\n",
        "\n",
        "print(f\"The city ranked third for UFO sightings between 1960 and 1983 is: {city_ranked_third}\")\n",
        "print(f\"The average duration in this city is: {average_duration_third_ranked_city} seconds\")\n"
      ],
      "metadata": {
        "colab": {
          "base_uri": "https://localhost:8080/"
        },
        "id": "FCAPaTpvnEjs",
        "outputId": "9364f465-eb0c-4f01-aa01-a4ae8fe3fd4c"
      },
      "execution_count": null,
      "outputs": [
        {
          "output_type": "stream",
          "name": "stdout",
          "text": [
            "The city ranked third for UFO sightings between 1960 and 1983 is: los angeles\n",
            "The average duration in this city is: 473 seconds\n"
          ]
        }
      ]
    },
    {
      "cell_type": "code",
      "source": [
        "import pandas as pd\n",
        "\n",
        "# Assuming you have a DataFrame named 'df' with 'City' and 'Duration' columns\n",
        "# You can read a dataset using pd.read_csv or other functions\n",
        "\n",
        "# Convert the 'Duration' column to numeric if it's not already in numeric format\n",
        "df['duration (seconds)'] = pd.to_numeric(df['duration (seconds)'], errors='coerce')\n",
        "\n",
        "# Calculate the mean duration for each city\n",
        "mean_duration_per_city = df.groupby('city')['duration (seconds)'].mean().round()\n",
        "\n",
        "# Display the mean duration for each city\n",
        "print(mean_duration_per_city)\n"
      ],
      "metadata": {
        "colab": {
          "base_uri": "https://localhost:8080/"
        },
        "id": "0EE_XVRtn9tu",
        "outputId": "3c1f4118-7b66-4c9b-9f70-681b4b5941ce"
      },
      "execution_count": null,
      "outputs": [
        {
          "output_type": "stream",
          "name": "stdout",
          "text": [
            "city\n",
            "&ccedil;anakkale (turkey)                                   600.0\n",
            "&iacute;safj&ouml;r&eth;ur (iceland)                        900.0\n",
            "&ouml;lmstad (sweden)                                         2.0\n",
            "1-25 corridor (southbound&#44 65 miles north nm border)    2700.0\n",
            "100 mile (canada)                                            15.0\n",
            "                                                            ...  \n",
            "zuiddorpe (netherlands)                                     900.0\n",
            "zumbrota                                                     14.0\n",
            "zutphen (netherlands)                                       120.0\n",
            "zwevegem (belgium)                                         1500.0\n",
            "zwolle                                                     1260.0\n",
            "Name: duration (seconds), Length: 19900, dtype: float64\n"
          ]
        }
      ]
    },
    {
      "cell_type": "code",
      "source": [
        "import pandas as pd\n",
        "\n",
        "# Assuming you have a DataFrame named 'df' with 'City', 'Duration', and 'Datetime' columns\n",
        "# You can read a dataset using pd.read_csv or other functions\n",
        "\n",
        "# Convert the 'Datetime' column to datetime format\n",
        "df['datetime'] = pd.to_datetime(df['datetime'], errors='coerce')\n",
        "\n",
        "# Filter data for the time range 1960 to 1983\n",
        "filtered_data = df[(df['datetime'].dt.year >= 1960) & (df['datetime'].dt.year <= 1983)]\n",
        "\n",
        "# Convert the 'Duration' column to numeric if it's not already in numeric format\n",
        "filtered_data['duration (seconds)'] = pd.to_numeric(filtered_data['duration (seconds)'], errors='coerce')\n",
        "\n",
        "# Calculate the mean duration for each city\n",
        "mean_duration_per_city = filtered_data.groupby('city')['duration (seconds)'].mean().round()\n",
        "\n",
        "# Display the mean duration for each city\n",
        "print(mean_duration_per_city)\n"
      ],
      "metadata": {
        "colab": {
          "base_uri": "https://localhost:8080/"
        },
        "id": "GR2R_4NboUms",
        "outputId": "e0e1593f-25e7-4e52-adef-1e8afedfd80a"
      },
      "execution_count": null,
      "outputs": [
        {
          "output_type": "stream",
          "name": "stdout",
          "text": [
            "city\n",
            "29 palms                        900.0\n",
            "a field outside small town     5400.0\n",
            "abbeville (lake secession)      300.0\n",
            "aberdeen                       1890.0\n",
            "accord                         1200.0\n",
            "                                ...  \n",
            "zanesville                      300.0\n",
            "zell (farm outside of)          120.0\n",
            "zimmerman (3 miles east of)     600.0\n",
            "zirndorf (west germany)           3.0\n",
            "zuiddorpe (netherlands)         900.0\n",
            "Name: duration (seconds), Length: 2877, dtype: float64\n"
          ]
        },
        {
          "output_type": "stream",
          "name": "stderr",
          "text": [
            "<ipython-input-38-1344bc2c5acd>:13: SettingWithCopyWarning: \n",
            "A value is trying to be set on a copy of a slice from a DataFrame.\n",
            "Try using .loc[row_indexer,col_indexer] = value instead\n",
            "\n",
            "See the caveats in the documentation: https://pandas.pydata.org/pandas-docs/stable/user_guide/indexing.html#returning-a-view-versus-a-copy\n",
            "  filtered_data['duration (seconds)'] = pd.to_numeric(filtered_data['duration (seconds)'], errors='coerce')\n"
          ]
        }
      ]
    },
    {
      "cell_type": "code",
      "source": [
        "import pandas as pd\n",
        "\n",
        "# Assuming you have a DataFrame named 'df' with 'City', 'Duration', and 'Datetime' columns\n",
        "# You can read a dataset using pd.read_csv or other functions\n",
        "\n",
        "# Convert the 'Datetime' column to datetime format\n",
        "df['datetime'] = pd.to_datetime(df['datetime'], errors='coerce')\n",
        "\n",
        "# Filter data for the time range 1960 to 1983\n",
        "filtered_data = df[(df['datetime'].dt.year >= 1960) & (df['datetime'].dt.year <= 1983)]\n",
        "\n",
        "# Convert the 'Duration' column to numeric if it's not already in numeric format\n",
        "filtered_data['duration (seconds)'] = pd.to_numeric(filtered_data['duration (seconds)'], errors='coerce')\n",
        "\n",
        "# Calculate the mean duration for each city\n",
        "mean_duration_per_city = filtered_data.groupby('city')['duration (seconds)'].mean().round()\n",
        "\n",
        "# Find the top 3 cities\n",
        "top_3_cities = mean_duration_per_city.nlargest(3)\n",
        "\n",
        "# Display the top 3 cities with their mean duration values\n",
        "print(top_3_cities)\n"
      ],
      "metadata": {
        "colab": {
          "base_uri": "https://localhost:8080/"
        },
        "id": "BAtve1WCozVP",
        "outputId": "fffacb50-a79b-433c-8c3a-78e736bc2753"
      },
      "execution_count": null,
      "outputs": [
        {
          "output_type": "stream",
          "name": "stdout",
          "text": [
            "city\n",
            "somerset (uk/england)      25248000.0\n",
            "birmingham (uk/england)    16309050.0\n",
            "new canaan                  9468000.0\n",
            "Name: duration (seconds), dtype: float64\n"
          ]
        },
        {
          "output_type": "stream",
          "name": "stderr",
          "text": [
            "<ipython-input-39-a620d6ac4fc0>:13: SettingWithCopyWarning: \n",
            "A value is trying to be set on a copy of a slice from a DataFrame.\n",
            "Try using .loc[row_indexer,col_indexer] = value instead\n",
            "\n",
            "See the caveats in the documentation: https://pandas.pydata.org/pandas-docs/stable/user_guide/indexing.html#returning-a-view-versus-a-copy\n",
            "  filtered_data['duration (seconds)'] = pd.to_numeric(filtered_data['duration (seconds)'], errors='coerce')\n"
          ]
        }
      ]
    }
  ]
}